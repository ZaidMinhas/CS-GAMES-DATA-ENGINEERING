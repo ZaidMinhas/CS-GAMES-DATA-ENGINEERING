{
  "nbformat": 4,
  "nbformat_minor": 0,
  "metadata": {
    "colab": {
      "provenance": []
    },
    "kernelspec": {
      "name": "python3",
      "display_name": "Python 3"
    },
    "language_info": {
      "name": "python"
    }
  },
  "cells": [
    {
      "cell_type": "markdown",
      "source": [
        "# Data Engineering"
      ],
      "metadata": {
        "id": "J_jAy3KciN3M"
      }
    },
    {
      "cell_type": "markdown",
      "source": [
        "For this challenge you will be using the [LEGO Sets and Prices Over Time](https://www.kaggle.com/datasets/alexracape/lego-sets-and-prices-over-time).\n",
        "\n",
        "You'll be performing Data Preparation and Exploratory Data Analysis (EDA)\n",
        "\n",
        "**Submission Rules** Submit the ipynb file on the google form, make sure to write your full name on the form aswell\n",
        "\n",
        "**Note:** You do not have to answer all questions, you can skips ones that youre stuck in, but you are encouraged to play around (drop columns, clean data, etc)"
      ],
      "metadata": {
        "id": "z5eziMzRiRhr"
      }
    },
    {
      "cell_type": "markdown",
      "source": [
        "## Question 1\n",
        "Load and import the dataset `sets.csv` into a pandas dataframe `df`, give the data a quick overview"
      ],
      "metadata": {
        "id": "RLhDA52Xi1Ec"
      }
    },
    {
      "cell_type": "code",
      "source": [],
      "metadata": {
        "id": "rVKRojmajMkY"
      },
      "execution_count": null,
      "outputs": []
    },
    {
      "cell_type": "markdown",
      "source": [
        "## Question 2\n",
        "Some of the columns contain null data, try to find the percentage of null data in these columns"
      ],
      "metadata": {
        "id": "xFLd_31ijUJI"
      }
    },
    {
      "cell_type": "code",
      "source": [],
      "metadata": {
        "id": "Yh4xO5rSj4NG"
      },
      "execution_count": null,
      "outputs": []
    },
    {
      "cell_type": "markdown",
      "source": [
        "## Question 3\n",
        "Make visualizations to show the distribution of lego products released every year"
      ],
      "metadata": {
        "id": "HBLtVpXYj4_Q"
      }
    },
    {
      "cell_type": "code",
      "source": [],
      "metadata": {
        "id": "iNQ8zY2mkoi5"
      },
      "execution_count": null,
      "outputs": []
    },
    {
      "cell_type": "markdown",
      "source": [
        "## Question 4\n",
        "Create a new data frame `df_clean`, where the null values of `Current_Price` are removed."
      ],
      "metadata": {
        "id": "1CkOIE9ckqXU"
      }
    },
    {
      "cell_type": "code",
      "source": [],
      "metadata": {
        "id": "XJXYKCgKlEDU"
      },
      "execution_count": null,
      "outputs": []
    },
    {
      "cell_type": "markdown",
      "source": [
        "## **Question 5**\n",
        "Do some data cleaning on `df_clean`, replace the null values of `Minifigures` and `USD_MSRP` with values you seem are appropriate, give reason behind your the data filling you do."
      ],
      "metadata": {
        "id": "Gu-VUJP9sP0F"
      }
    },
    {
      "cell_type": "code",
      "source": [],
      "metadata": {
        "id": "j0WGU5kCtAY2"
      },
      "execution_count": null,
      "outputs": []
    },
    {
      "cell_type": "markdown",
      "source": [
        "## Question 6\n",
        "Create a corelation matrix with all the numerical data in `df_clean`"
      ],
      "metadata": {
        "id": "sLl4N5uskfG0"
      }
    },
    {
      "cell_type": "code",
      "source": [],
      "metadata": {
        "id": "SCaiMS9HkhWO"
      },
      "execution_count": null,
      "outputs": []
    },
    {
      "cell_type": "markdown",
      "source": [
        "## Question 7\n",
        "Add a new column called `logCurrent_Price` that just has the log10 of the Current_Price"
      ],
      "metadata": {
        "id": "qId2c-iClFnB"
      }
    },
    {
      "cell_type": "code",
      "source": [],
      "metadata": {
        "id": "n8OmuWfPmr-L"
      },
      "execution_count": null,
      "outputs": []
    },
    {
      "cell_type": "markdown",
      "source": [
        "## Question 8\n",
        "Create plots with `logCurrent_Price` with every other numerical category, show the linear regression lines and which ones seem to be most linearly corelated to `logCurrent_Price`, give proper visualizations"
      ],
      "metadata": {
        "id": "VK1umBGXpKDV"
      }
    },
    {
      "cell_type": "code",
      "source": [],
      "metadata": {
        "id": "wuiOcPpnpzWL"
      },
      "execution_count": null,
      "outputs": []
    },
    {
      "cell_type": "markdown",
      "source": [
        "## Question 9\n",
        "Give a ranking of the top numerical variables that are correlated `withlogCurrent_Price`\n",
        "\n",
        "Also try doing the same with `Current_Price` to see if its giving different results than `logCurrent_Price`\n",
        "\n"
      ],
      "metadata": {
        "id": "9b1SuTXkqbBL"
      }
    },
    {
      "cell_type": "code",
      "source": [],
      "metadata": {
        "id": "Dv5CRmRWtBRx"
      },
      "execution_count": null,
      "outputs": []
    },
    {
      "cell_type": "markdown",
      "source": [
        "## Question 10\n",
        "Also compare `logCurrent_Price` with categorical data, give proper visualizations"
      ],
      "metadata": {
        "id": "ZLedWsT5qB5X"
      }
    },
    {
      "cell_type": "code",
      "source": [],
      "metadata": {
        "id": "u43G6Hwgqx1B"
      },
      "execution_count": null,
      "outputs": []
    },
    {
      "cell_type": "markdown",
      "source": [
        "## **Question 11**\n",
        "Perform **Principal Component Analysis** (PCA) with 2 and 3 components, use only numerical data (except `Current_Price` and `logCurrent_Price`). Visualize both components"
      ],
      "metadata": {
        "id": "o2QrY7T0q868"
      }
    },
    {
      "cell_type": "code",
      "source": [],
      "metadata": {
        "id": "obCph4NesDoI"
      },
      "execution_count": null,
      "outputs": []
    },
    {
      "cell_type": "markdown",
      "source": [
        "## Question 12\n",
        "You are now tasked to make a prediction model for the `Current_Price` of a lego product, you can use any regression techniques.\n",
        "\n",
        "Split the clean data into a training and test dataset (ie 80/20 split)\n"
      ],
      "metadata": {
        "id": "n-7kaDiftCNI"
      }
    },
    {
      "cell_type": "code",
      "source": [],
      "metadata": {
        "id": "u1IcxXXOttp5"
      },
      "execution_count": null,
      "outputs": []
    },
    {
      "cell_type": "markdown",
      "source": [
        "## Question 13\n",
        "Make transformations, regularization, cross-validation or hyperparameter\n",
        "tuning, etc to improve your results."
      ],
      "metadata": {
        "id": "OIrHjdujUZKt"
      }
    },
    {
      "cell_type": "code",
      "source": [],
      "metadata": {
        "id": "Qr8cF3wOUeIv"
      },
      "execution_count": null,
      "outputs": []
    }
  ]
}